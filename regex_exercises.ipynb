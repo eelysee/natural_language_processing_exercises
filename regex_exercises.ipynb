{
 "cells": [
  {
   "cell_type": "code",
   "execution_count": 2,
   "id": "85dc6217",
   "metadata": {},
   "outputs": [],
   "source": [
    "import re"
   ]
  },
  {
   "cell_type": "markdown",
   "id": "d5aff71e",
   "metadata": {},
   "source": [
    "## 1. Write a function named is_vowel. It should accept a string as input and use a regular expression to determine if the passed string is a vowel. While not explicity mentioned in the lesson, you can treat the result of re.search as a boolean value that indicates whether or not the regular expression matches the given string."
   ]
  },
  {
   "cell_type": "code",
   "execution_count": 8,
   "id": "34e46337",
   "metadata": {},
   "outputs": [],
   "source": [
    "input1 = 'a' \n",
    "input2 = 'A'\n",
    "imput3 = '3'\n",
    "input4 = 'four'\n",
    "input5 = 'five5'"
   ]
  },
  {
   "cell_type": "code",
   "execution_count": 16,
   "id": "83d7c3ba",
   "metadata": {},
   "outputs": [
    {
     "data": {
      "text/plain": [
       "['f', 'i', 'v', 'e', '5']"
      ]
     },
     "execution_count": 16,
     "metadata": {},
     "output_type": "execute_result"
    }
   ],
   "source": [
    "re.findall(r'[\\w\\D]',input5)"
   ]
  },
  {
   "cell_type": "code",
   "execution_count": null,
   "id": "1f712b43",
   "metadata": {},
   "outputs": [],
   "source": [
    "def is_vowel(string): \n",
    "    l=[]\n",
    "    [\\w\\D]\n",
    "    return l != []\n",
    "    "
   ]
  }
 ],
 "metadata": {
  "kernelspec": {
   "display_name": "Python 3 (ipykernel)",
   "language": "python",
   "name": "python3"
  },
  "language_info": {
   "codemirror_mode": {
    "name": "ipython",
    "version": 3
   },
   "file_extension": ".py",
   "mimetype": "text/x-python",
   "name": "python",
   "nbconvert_exporter": "python",
   "pygments_lexer": "ipython3",
   "version": "3.10.9"
  }
 },
 "nbformat": 4,
 "nbformat_minor": 5
}
