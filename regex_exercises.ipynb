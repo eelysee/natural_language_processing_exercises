{
 "cells": [
  {
   "cell_type": "code",
   "execution_count": 2,
   "id": "85dc6217",
   "metadata": {},
   "outputs": [],
   "source": [
    "import re"
   ]
  },
  {
   "cell_type": "markdown",
   "id": "d5aff71e",
   "metadata": {},
   "source": [
    "## 1. Write a function named is_vowel. It should accept a string as input and use a regular expression to determine if the passed string is a vowel. While not explicity mentioned in the lesson, you can treat the result of re.search as a boolean value that indicates whether or not the regular expression matches the given string."
   ]
  },
  {
   "cell_type": "code",
   "execution_count": 20,
   "id": "34e46337",
   "metadata": {},
   "outputs": [],
   "source": [
    "input1 = 'a' \n",
    "input2 = 'A'\n",
    "input3 = '3'\n",
    "input4 = 'four'\n",
    "input5 = 'five5'\n",
    "input6 = 'b'\n",
    "input7 = 'a' , 'e'\n",
    "input8 = ['a','e']\n",
    "input9 = 8\n",
    "input10 = 'ab'"
   ]
  },
  {
   "cell_type": "code",
   "execution_count": 21,
   "id": "698ae82f",
   "metadata": {},
   "outputs": [],
   "source": [
    "test_list = [input1, input2, input3, input4, input5, input6, input7, input8, input9, input10]"
   ]
  },
  {
   "cell_type": "code",
   "execution_count": 28,
   "id": "b367fa89",
   "metadata": {},
   "outputs": [],
   "source": [
    "test_list_awnser_key = {\n",
    "                         'input1': True,\n",
    "                         'input2': True,\n",
    "                         'input3': False,\n",
    "                         'input4': False,\n",
    "                         'input5': False,\n",
    "                         'input6': False,\n",
    "                         'input7': True,\n",
    "                         'input8': False,\n",
    "                         'input9': False,\n",
    "                         'input10': False\n",
    "                        }\n"
   ]
  },
  {
   "cell_type": "code",
   "execution_count": 16,
   "id": "83d7c3ba",
   "metadata": {},
   "outputs": [
    {
     "data": {
      "text/plain": [
       "['f', 'i', 'v', 'e', '5']"
      ]
     },
     "execution_count": 16,
     "metadata": {},
     "output_type": "execute_result"
    }
   ],
   "source": [
    "re.findall(r'[\\w\\D]',input5)"
   ]
  },
  {
   "cell_type": "code",
   "execution_count": 38,
   "id": "1f712b43",
   "metadata": {},
   "outputs": [],
   "source": [
    "# kinda a mess\n",
    "'''def is_vowel(string): \n",
    "    vowels = ['a','e','i','o','u']\n",
    "    if len(str(string)) != 1 or type(string) != str:\n",
    "        print('is_vowel() only accepts a single letter')\n",
    "        print(bool)\n",
    "    else:\n",
    "        if re.findall(r'[aeiou]', string.lower()): \n",
    "            return True\n",
    "    '''"
   ]
  },
  {
   "cell_type": "code",
   "execution_count": 40,
   "id": "ed0c029a",
   "metadata": {},
   "outputs": [],
   "source": [
    "def is_vowel(string):\n",
    "    vowels = ['a','e','i','o','u']\n",
    "    print(bool(re.findall(r'[aeiou]', string.lower()) in vowels))"
   ]
  },
  {
   "cell_type": "code",
   "execution_count": 43,
   "id": "5a07de22",
   "metadata": {},
   "outputs": [
    {
     "data": {
      "text/plain": [
       "['a']"
      ]
     },
     "execution_count": 43,
     "metadata": {},
     "output_type": "execute_result"
    }
   ],
   "source": [
    "re.findall(r'[aeiou]', input1.lower())"
   ]
  },
  {
   "cell_type": "code",
   "execution_count": 42,
   "id": "7c86f4ef",
   "metadata": {},
   "outputs": [
    {
     "name": "stdout",
     "output_type": "stream",
     "text": [
      "False\n"
     ]
    }
   ],
   "source": [
    "is_vowel(input2)"
   ]
  },
  {
   "cell_type": "code",
   "execution_count": 39,
   "id": "b6847ef3",
   "metadata": {},
   "outputs": [
    {
     "name": "stdout",
     "output_type": "stream",
     "text": [
      "is_vowel() only accepts a single letter\n",
      "<class 'bool'>\n",
      "is_vowel() only accepts a single letter\n",
      "<class 'bool'>\n",
      "is_vowel() only accepts a single letter\n",
      "<class 'bool'>\n",
      "is_vowel() only accepts a single letter\n",
      "<class 'bool'>\n",
      "is_vowel() only accepts a single letter\n",
      "<class 'bool'>\n",
      "is_vowel() only accepts a single letter\n",
      "<class 'bool'>\n"
     ]
    }
   ],
   "source": [
    "for i in test_list:\n",
    "    is_vowel(i)"
   ]
  }
 ],
 "metadata": {
  "kernelspec": {
   "display_name": "Python 3 (ipykernel)",
   "language": "python",
   "name": "python3"
  },
  "language_info": {
   "codemirror_mode": {
    "name": "ipython",
    "version": 3
   },
   "file_extension": ".py",
   "mimetype": "text/x-python",
   "name": "python",
   "nbconvert_exporter": "python",
   "pygments_lexer": "ipython3",
   "version": "3.10.9"
  }
 },
 "nbformat": 4,
 "nbformat_minor": 5
}
